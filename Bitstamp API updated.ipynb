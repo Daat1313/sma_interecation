{
 "cells": [
  {
   "cell_type": "code",
   "execution_count": 1,
   "id": "d0a1dcd3-a5bb-4951-a616-a2e14a68bfbb",
   "metadata": {},
   "outputs": [],
   "source": [
    "import pandas as pd\n",
    "import requests\n",
    "import logging\n",
    "from datetime import datetime, timedelta"
   ]
  },
  {
   "cell_type": "code",
   "execution_count": 2,
   "id": "8399d54a-efdb-459c-bb4e-3370dad61163",
   "metadata": {},
   "outputs": [],
   "source": [
    "exist_df = pd.read_csv(r\".\\\\BITSTAMP_BTCUSD_1D.csv\")\n",
    "exist_df = exist_df[[\"time\", \"open\", \"high\", \"low\", \"close\"]]"
   ]
  },
  {
   "cell_type": "code",
   "execution_count": 3,
   "id": "7ed87100-8681-4fad-9b6a-21f92e7477b2",
   "metadata": {},
   "outputs": [],
   "source": [
    "start = exist_df.iloc[-1, 0]\n",
    "end = datetime.today().date()\n",
    "dates = pd.date_range(start, end)\n",
    "dates = [int(x.value/(10**9)) for x in dates]\n",
    "df = pd.DataFrame(index = dates, columns =  [[\"close\", \"high\", \"low\", \"open\", \"timestamp\", \"volume\"]])"
   ]
  },
  {
   "cell_type": "code",
   "execution_count": 4,
   "id": "8b7d26f3-c4aa-4b9a-87de-e502a6c29a1c",
   "metadata": {},
   "outputs": [],
   "source": [
    "# Initialize logging\n",
    "logging.basicConfig(level=logging.INFO)\n",
    "\n",
    "def request_bitstamp_data(pair=\"btcusd\", limit=500, start_date=start, end_date=end):\n",
    "    \"\"\"\n",
    "    Request Bitstamp API to get OHLC data and return it as a list of dictionaries.\n",
    "\n",
    "    Parameters:\n",
    "    pair (str): Currency pair to fetch data for. Default is \"btcusd\".\n",
    "    limit (int): Maximum number of data points (days) to fetch in each API call. Default is 100.\n",
    "    start_date (str): The start date for data fetching in 'YYYY-MM-DD' format. Default is \"2023-01-01\".\n",
    "    end_date (str): The end date for data fetching in 'YYYY-MM-DD' format. Default is \"2023-02-01\".\n",
    "\n",
    "    Returns:\n",
    "    list: A list of dictionaries containing OHLC data.\n",
    "    \"\"\"\n",
    "    data = []\n",
    "    \n",
    "    # Generate the list of dates\n",
    "    date_format = \"%Y-%m-%d\"\n",
    "    start_date = datetime.strptime(start_date, date_format).date()\n",
    "    \n",
    "    \n",
    "    current_start_date = start_date\n",
    "    \n",
    "    while current_start_date < end_date:\n",
    "        current_end_date = min(current_start_date + timedelta(days=limit), end_date)\n",
    "        \n",
    "        parameters = {\n",
    "            \"step\": 86400,  # 1 day in seconds\n",
    "            \"limit\": limit,\n",
    "            \"start\": int(datetime(start_date.year, start_date.month, start_date.day).timestamp()),\n",
    "            \"end\": int(datetime(end_date.year, end_date.month, end_date.day).timestamp())\n",
    "        }\n",
    "\n",
    "        logging.info(f\"Requesting data from {current_start_date} to {current_end_date}\")\n",
    "        \n",
    "        try:\n",
    "            response = requests.get(f\"https://www.bitstamp.net/api/v2/ohlc/{pair}/\", params=parameters)\n",
    "            response.raise_for_status()  # Raise an exception for HTTP errors\n",
    "            req = response.json()[\"data\"][\"ohlc\"]\n",
    "            if not req:\n",
    "                logging.warning(f\"No data returned for period {current_start_date.date()} to {current_end_date.date()}\")\n",
    "            data += req\n",
    "        except requests.RequestException as e:\n",
    "            logging.error(f\"Request failed: {e}\")\n",
    "            break\n",
    "        \n",
    "        # Move to the next date range\n",
    "        current_start_date = current_end_date + timedelta(days=1)\n",
    "    \n",
    "    logging.info(f\"Data download for pair: {pair.upper()} completed\")\n",
    "    return data"
   ]
  },
  {
   "cell_type": "code",
   "execution_count": 5,
   "id": "4aad0e14-65d8-4aee-b4a3-4b8c26f0ba42",
   "metadata": {},
   "outputs": [
    {
     "name": "stderr",
     "output_type": "stream",
     "text": [
      "INFO:root:Requesting data from 2024-07-09 to 2024-07-10\n",
      "INFO:root:Data download for pair: BTCUSD completed\n"
     ]
    }
   ],
   "source": [
    "# Executing request and gethering data\n",
    "ohlc_data = request_bitstamp_data(pair=\"btcusd\")\n"
   ]
  },
  {
   "cell_type": "code",
   "execution_count": 8,
   "id": "4be54548-b450-4639-8889-3221cdc648d6",
   "metadata": {},
   "outputs": [],
   "source": [
    "df = pd.DataFrame(ohlc_data)\n",
    "df = df.drop_duplicates()\n",
    "df = df.reset_index()\n",
    "df = df.drop(labels = [\"index\"], axis = 1)\n",
    "\n",
    "if df.empty:\n",
    "    print(f\"No data add. Existing dataframe is up to date.\")\n",
    "    exist_df.to_csv(\"btcusd_data.csv\", sep=\",\", columns = [\"timestamp\", \"open\", \"high\", \"low\",\"close\"])\n",
    "else:\n",
    "    df.to_csv(\"btcusd_data.csv\", sep=\",\", columns = [\"timestamp\", \"open\", \"high\", \"low\",\"close\"])"
   ]
  },
  {
   "cell_type": "code",
   "execution_count": null,
   "id": "04841361-5237-49f5-832e-9845e9c7973c",
   "metadata": {},
   "outputs": [],
   "source": []
  },
  {
   "cell_type": "code",
   "execution_count": null,
   "id": "d823e76e-cabc-45bf-a056-8e6dc6db301c",
   "metadata": {},
   "outputs": [],
   "source": []
  }
 ],
 "metadata": {
  "kernelspec": {
   "display_name": "Python 3 (ipykernel)",
   "language": "python",
   "name": "python3"
  },
  "language_info": {
   "codemirror_mode": {
    "name": "ipython",
    "version": 3
   },
   "file_extension": ".py",
   "mimetype": "text/x-python",
   "name": "python",
   "nbconvert_exporter": "python",
   "pygments_lexer": "ipython3",
   "version": "3.9.13"
  }
 },
 "nbformat": 4,
 "nbformat_minor": 5
}
